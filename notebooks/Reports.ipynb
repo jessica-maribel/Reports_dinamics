{
  "nbformat": 4,
  "nbformat_minor": 0,
  "metadata": {
    "colab": {
      "provenance": [],
      "authorship_tag": "ABX9TyMc422FZUoRiM+wGGwC2JAF",
      "include_colab_link": true
    },
    "kernelspec": {
      "name": "python3",
      "display_name": "Python 3"
    },
    "language_info": {
      "name": "python"
    }
  },
  "cells": [
    {
      "cell_type": "markdown",
      "metadata": {
        "id": "view-in-github",
        "colab_type": "text"
      },
      "source": [
        "<a href=\"https://colab.research.google.com/github/jessica-maribel/Reports_dinamics/blob/main/notebooks/Reports.ipynb\" target=\"_parent\"><img src=\"https://colab.research.google.com/assets/colab-badge.svg\" alt=\"Open In Colab\"/></a>"
      ]
    },
    {
      "cell_type": "markdown",
      "source": [
        "#Reportes Dinámicos\n",
        "\n",
        "Analisis del Aréa Ciencia y Tecnología basado en la carrera de Ingeniería Civil\n",
        "\n"
      ],
      "metadata": {
        "id": "uSHRC5u9t68j"
      }
    },
    {
      "cell_type": "code",
      "source": [
        "#Install\n",
        "!pip install pandas\n",
        "!pip install matplotlib\n",
        "!pip install ipywidgets"
      ],
      "metadata": {
        "id": "6pZqAeK1ubnh"
      },
      "execution_count": null,
      "outputs": []
    },
    {
      "cell_type": "code",
      "source": [
        "#Importar Librerias\n",
        "import pandas as pd\n",
        "import matplotlib.pyplot as plt\n",
        "import ipywidgets as widgets\n",
        "from IPython.display import display"
      ],
      "metadata": {
        "id": "r7d-L9dTuXD7"
      },
      "execution_count": null,
      "outputs": []
    },
    {
      "cell_type": "markdown",
      "source": [
        "## Reporte 1. Mediante una lista despegable seleccionar la carrera y visualizar el comportamiento de las cohortes.\n"
      ],
      "metadata": {
        "id": "pLZjuYdN2UIO"
      }
    },
    {
      "cell_type": "code",
      "source": [],
      "metadata": {
        "id": "fReAqtECynEQ"
      },
      "execution_count": null,
      "outputs": []
    },
    {
      "cell_type": "markdown",
      "source": [
        "## Reporte 2. Mediante un checklist filtar las cohortes"
      ],
      "metadata": {
        "id": "nqVqmOeE2i6x"
      }
    },
    {
      "cell_type": "code",
      "source": [],
      "metadata": {
        "id": "heUWJOAk2q6M"
      },
      "execution_count": null,
      "outputs": []
    }
  ]
}