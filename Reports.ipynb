{
  "nbformat": 4,
  "nbformat_minor": 0,
  "metadata": {
    "colab": {
      "provenance": []
    },
    "kernelspec": {
      "name": "python3",
      "display_name": "Python 3"
    },
    "language_info": {
      "name": "python"
    }
  },
  "cells": [
    {
      "cell_type": "markdown",
      "source": [
        "#Reportes Dinámicos\n",
        "\n",
        "Analisis del Aréa Ciencia y Tecnología basado en la carrera de Ingeniería Civil\n",
        "\n"
      ],
      "metadata": {
        "id": "uSHRC5u9t68j"
      }
    },
    {
      "cell_type": "code",
      "source": [
        "#Install\n",
        "!pip install pandas\n",
        "!pip install matplotlib\n",
        "!pip install ipywidgets"
      ],
      "metadata": {
        "id": "6pZqAeK1ubnh"
      },
      "execution_count": null,
      "outputs": []
    },
    {
      "cell_type": "code",
      "source": [
        "#Importar Librerias\n",
        "import pandas as pd\n",
        "import matplotlib.pyplot as plt\n",
        "import ipywidgets as widgets\n",
        "from IPython.display import display"
      ],
      "metadata": {
        "id": "r7d-L9dTuXD7"
      },
      "execution_count": null,
      "outputs": []
    },
    {
      "cell_type": "code",
      "source": [],
      "metadata": {
        "id": "fReAqtECynEQ"
      },
      "execution_count": null,
      "outputs": []
    }
  ]
}