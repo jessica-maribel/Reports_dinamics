{
  "nbformat": 4,
  "nbformat_minor": 0,
  "metadata": {
    "colab": {
      "provenance": [],
      "include_colab_link": true
    },
    "kernelspec": {
      "name": "python3",
      "display_name": "Python 3"
    },
    "language_info": {
      "name": "python"
    }
  },
  "cells": [
    {
      "cell_type": "markdown",
      "metadata": {
        "id": "view-in-github",
        "colab_type": "text"
      },
      "source": [
        "<a href=\"https://colab.research.google.com/github/jessica-maribel/Reports_dinamics/blob/main/notebook/clean_duplicate_excel.ipynb\" target=\"_parent\"><img src=\"https://colab.research.google.com/assets/colab-badge.svg\" alt=\"Open In Colab\"/></a>"
      ]
    },
    {
      "cell_type": "code",
      "execution_count": null,
      "metadata": {
        "id": "3LYrPqn3VaSL"
      },
      "outputs": [],
      "source": [
        "import pandas as pd"
      ]
    },
    {
      "cell_type": "code",
      "source": [
        "# Cargar el archivo Excel\n",
        "archivo_excel = 'ubicaciones.xlsx'  # Reemplaza con la ruta de tu archivo\n",
        "hoja = 'Hoja1'  # Nombre de la hoja, si es necesario especificarlo\n",
        "\n",
        "# Leer los datos en un DataFrame\n",
        "df = pd.read_excel(archivo_excel, sheet_name=hoja)\n",
        "\n",
        "# Eliminar duplicados basados solo en una columna\n",
        "# Sustituye 'nombre_columna' por el nombre de la columna que deseas limpiar de duplicados\n",
        "df_sin_duplicados = df.drop_duplicates(subset=['Ubicación'])\n",
        "\n",
        "# Guardar el DataFrame\n",
        "df_sin_duplicados.to_excel('locations.xlsx', index=False)"
      ],
      "metadata": {
        "id": "w3GN5Rt8VlAp"
      },
      "execution_count": null,
      "outputs": []
    },
    {
      "cell_type": "code",
      "source": [
        "import pandas as pd\n",
        "\n",
        "# Cargar el archivo Excel\n",
        "archivo_excel = 'stock.xlsx'\n",
        "df = pd.read_excel(archivo_excel)\n",
        "\n",
        "\n",
        "df['Cantidad'] = pd.to_numeric(df['Cantidad'], errors='coerce')\n",
        "\n",
        "df_sin_duplicados = df.groupby(['Cód. Proveedor Actual', 'Descripción español', 'Ubicación'], as_index=False).agg({'Cantidad': 'sum'})\n",
        "\n",
        "# Guardar el resultado en un nuevo archivo\n",
        "df_sin_duplicados.to_excel('inventario.xlsx', index=False)\n"
      ],
      "metadata": {
        "id": "8-lFixIQVzsX"
      },
      "execution_count": null,
      "outputs": []
    },
    {
      "cell_type": "code",
      "source": [
        "!pip install pandas openpyxl"
      ],
      "metadata": {
        "id": "ZndbLdWNTAR8",
        "colab": {
          "base_uri": "https://localhost:8080/"
        },
        "outputId": "ec56988b-6b4b-4bda-d74a-f944ffdab02b"
      },
      "execution_count": null,
      "outputs": [
        {
          "output_type": "stream",
          "name": "stdout",
          "text": [
            "Requirement already satisfied: pandas in /usr/local/lib/python3.10/dist-packages (2.2.2)\n",
            "Requirement already satisfied: openpyxl in /usr/local/lib/python3.10/dist-packages (3.1.5)\n",
            "Requirement already satisfied: numpy>=1.22.4 in /usr/local/lib/python3.10/dist-packages (from pandas) (1.26.4)\n",
            "Requirement already satisfied: python-dateutil>=2.8.2 in /usr/local/lib/python3.10/dist-packages (from pandas) (2.8.2)\n",
            "Requirement already satisfied: pytz>=2020.1 in /usr/local/lib/python3.10/dist-packages (from pandas) (2024.2)\n",
            "Requirement already satisfied: tzdata>=2022.7 in /usr/local/lib/python3.10/dist-packages (from pandas) (2024.2)\n",
            "Requirement already satisfied: et-xmlfile in /usr/local/lib/python3.10/dist-packages (from openpyxl) (2.0.0)\n",
            "Requirement already satisfied: six>=1.5 in /usr/local/lib/python3.10/dist-packages (from python-dateutil>=2.8.2->pandas) (1.16.0)\n"
          ]
        }
      ]
    },
    {
      "cell_type": "code",
      "source": [
        "import pandas as pd\n",
        "\n",
        "# Cargar ambos archivos Excel\n",
        "archivo1 = pd.read_excel('productos_actualizado.xlsx')\n",
        "archivo2 = pd.read_excel('inventario.xlsx')\n",
        "\n",
        "# Convertir 'codigo_proveedor' a texto en ambos archivos\n",
        "#archivo1['nombre'] = archivo1['nombre'].astype(str)\n",
        "#archivo2['nombre'] = archivo2['nombre'].astype(str)\n",
        "\n",
        "# Crear un diccionario a partir del segundo archivo para una búsqueda rápida\n",
        "diccionario_cantidad = dict(zip(archivo2['nombre'], archivo2['Cantidad']))\n",
        "\n",
        "# Función para transferir la cantidad si el código proveedor coincide\n",
        "def transferir_cantidad(codigo):\n",
        "    return diccionario_cantidad.get(codigo, 0)  # Devuelve 0 si no se encuentra el código\n",
        "\n",
        "# Aplicar la función al primer archivo\n",
        "archivo1['Cantidad_Transferida'] = archivo1['nombre'].apply(transferir_cantidad)\n",
        "\n",
        "# Guardar el resultado en un nuevo archivo Excel\n",
        "archivo1.to_excel('inv_actualizado.xlsx', index=False)\n",
        "\n",
        "print(\"Archivo actualizado con las cantidades transferidas.\")\n",
        "\n"
      ],
      "metadata": {
        "colab": {
          "base_uri": "https://localhost:8080/"
        },
        "id": "cJtVA6OAjgvn",
        "outputId": "698c8aa8-ac2f-45f8-f813-5c5283959369"
      },
      "execution_count": null,
      "outputs": [
        {
          "output_type": "stream",
          "name": "stdout",
          "text": [
            "Archivo actualizado con las cantidades transferidas.\n"
          ]
        }
      ]
    },
    {
      "cell_type": "code",
      "source": [
        "import pandas as pd\n",
        "\n",
        "# Cargar el archivo Excel\n",
        "archivo1 = pd.read_excel('productos_actualizado.xlsx')\n",
        "archivo2 = pd.read_excel('ubicaciones_pro.xlsx')\n",
        "\n",
        "\n",
        "\n",
        "# Limpiar los nombres de las columnas eliminando espacios adicionales\n",
        "archivo1.columns = archivo1.columns.str.strip()\n",
        "archivo2.columns = archivo2.columns.str.strip()\n",
        "\n",
        "# Imprimir los nombres de las columnas\n",
        "print(archivo1.columns)\n",
        "print(archivo2.columns)"
      ],
      "metadata": {
        "colab": {
          "base_uri": "https://localhost:8080/"
        },
        "id": "Mr-EXmVWtQPN",
        "outputId": "5143f97e-873c-4cac-ee31-47fe72790aa4"
      },
      "execution_count": null,
      "outputs": [
        {
          "output_type": "stream",
          "name": "stdout",
          "text": [
            "Index(['codigo', 'empresa', 'nombre', 'codigo_proveedor', 'ubicacion_nombre',\n",
            "       'Cantidad_Transferida'],\n",
            "      dtype='object')\n",
            "Index(['codigo_ubicacion', 'ubicacion_nombre'], dtype='object')\n"
          ]
        }
      ]
    },
    {
      "cell_type": "code",
      "source": [
        "\n",
        "archivo_unido = archivo1.merge(\n",
        "    archivo2, on='ubicacion_nombre', how='inner'\n",
        ")\n",
        "\n",
        "\n",
        "archivo_unido.to_excel('archivo_unido_con_match.xlsx', index=False)\n",
        "\n",
        "print(\"Archivo unido creado con éxito con los registros que hacen match en 'ubicacion_nombre'.\")"
      ],
      "metadata": {
        "colab": {
          "base_uri": "https://localhost:8080/"
        },
        "id": "3dnePRMHuVpn",
        "outputId": "0d99f85a-283e-454c-b58c-5c833fe775ce"
      },
      "execution_count": null,
      "outputs": [
        {
          "output_type": "stream",
          "name": "stdout",
          "text": [
            "Archivo unido creado con éxito con los registros que hacen match en 'ubicacion_nombre'.\n"
          ]
        }
      ]
    },
    {
      "cell_type": "code",
      "source": [],
      "metadata": {
        "id": "oIRC9Go3vXIz"
      },
      "execution_count": null,
      "outputs": []
    }
  ]
}